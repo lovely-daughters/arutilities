{
 "cells": [
  {
   "cell_type": "code",
   "execution_count": 2,
   "metadata": {},
   "outputs": [],
   "source": [
    "from PIL import Image\n",
    "import numpy as np"
   ]
  },
  {
   "cell_type": "code",
   "execution_count": 10,
   "metadata": {},
   "outputs": [],
   "source": [
    "# thinking in terms of groups\n",
    "# or objects and duplication"
   ]
  },
  {
   "cell_type": "code",
   "execution_count": 5,
   "metadata": {},
   "outputs": [
    {
     "ename": "FileNotFoundError",
     "evalue": "[Errno 2] No such file or directory: './1821412288055968247-2.jpg'",
     "output_type": "error",
     "traceback": [
      "\u001b[0;31m---------------------------------------------------------------------------\u001b[0m",
      "\u001b[0;31mFileNotFoundError\u001b[0m                         Traceback (most recent call last)",
      "Cell \u001b[0;32mIn[5], line 1\u001b[0m\n\u001b[0;32m----> 1\u001b[0m image \u001b[38;5;241m=\u001b[39m \u001b[43mImage\u001b[49m\u001b[38;5;241;43m.\u001b[39;49m\u001b[43mopen\u001b[49m\u001b[43m(\u001b[49m\u001b[38;5;124;43m\"\u001b[39;49m\u001b[38;5;124;43m./1821412288055968247-2.jpg\u001b[39;49m\u001b[38;5;124;43m\"\u001b[39;49m\u001b[43m)\u001b[49m\n\u001b[1;32m      2\u001b[0m width \u001b[38;5;241m=\u001b[39m image\u001b[38;5;241m.\u001b[39mwidth\n\u001b[1;32m      3\u001b[0m height \u001b[38;5;241m=\u001b[39m image\u001b[38;5;241m.\u001b[39mheight\n",
      "File \u001b[0;32m~/.pyenv/versions/3.11.2/lib/python3.11/site-packages/PIL/Image.py:3247\u001b[0m, in \u001b[0;36mopen\u001b[0;34m(fp, mode, formats)\u001b[0m\n\u001b[1;32m   3244\u001b[0m     filename \u001b[38;5;241m=\u001b[39m fp\n\u001b[1;32m   3246\u001b[0m \u001b[38;5;28;01mif\u001b[39;00m filename:\n\u001b[0;32m-> 3247\u001b[0m     fp \u001b[38;5;241m=\u001b[39m \u001b[43mbuiltins\u001b[49m\u001b[38;5;241;43m.\u001b[39;49m\u001b[43mopen\u001b[49m\u001b[43m(\u001b[49m\u001b[43mfilename\u001b[49m\u001b[43m,\u001b[49m\u001b[43m \u001b[49m\u001b[38;5;124;43m\"\u001b[39;49m\u001b[38;5;124;43mrb\u001b[39;49m\u001b[38;5;124;43m\"\u001b[39;49m\u001b[43m)\u001b[49m\n\u001b[1;32m   3248\u001b[0m     exclusive_fp \u001b[38;5;241m=\u001b[39m \u001b[38;5;28;01mTrue\u001b[39;00m\n\u001b[1;32m   3250\u001b[0m \u001b[38;5;28;01mtry\u001b[39;00m:\n",
      "\u001b[0;31mFileNotFoundError\u001b[0m: [Errno 2] No such file or directory: './1821412288055968247-2.jpg'"
     ]
    }
   ],
   "source": [
    "image = Image.open(\"./1821412288055968247-2.jpg\")\n",
    "width = image.width\n",
    "height = image.height\n",
    "pixels = np.array(image).reshape(-1, 3)\n",
    "pixels.shape"
   ]
  },
  {
   "cell_type": "code",
   "execution_count": null,
   "metadata": {},
   "outputs": [
    {
     "data": {
      "text/plain": [
       "((10, 3), (3, 10))"
      ]
     },
     "execution_count": 4,
     "metadata": {},
     "output_type": "execute_result"
    }
   ],
   "source": [
    "np.random.seed(42)\n",
    "rand_indices = np.random.randint(0, pixels.shape[0], 10)\n",
    "rand_pixels = pixels[rand_indices]\n",
    "rand_pixels.shape, rand_pixels.T.shape # reshape wouldn't work bc row major traversal"
   ]
  },
  {
   "cell_type": "code",
   "execution_count": null,
   "metadata": {},
   "outputs": [
    {
     "data": {
      "text/plain": [
       "(1011712, 3, 10)"
      ]
     },
     "execution_count": 5,
     "metadata": {},
     "output_type": "execute_result"
    }
   ],
   "source": [
    "diff = pixels.reshape(-1, 3, 1) - rand_pixels.T.reshape(1, 3, -1)\n",
    "diff.shape"
   ]
  },
  {
   "cell_type": "code",
   "execution_count": 6,
   "metadata": {},
   "outputs": [
    {
     "ename": "NameError",
     "evalue": "name 'diff' is not defined",
     "output_type": "error",
     "traceback": [
      "\u001b[0;31m---------------------------------------------------------------------------\u001b[0m",
      "\u001b[0;31mNameError\u001b[0m                                 Traceback (most recent call last)",
      "Cell \u001b[0;32mIn[6], line 3\u001b[0m\n\u001b[1;32m      1\u001b[0m \u001b[38;5;66;03m# interpretation of objects is very important here\u001b[39;00m\n\u001b[1;32m      2\u001b[0m \u001b[38;5;66;03m# i have 10 vectors for each pixel and i want to get the length of each vector\u001b[39;00m\n\u001b[0;32m----> 3\u001b[0m norms \u001b[38;5;241m=\u001b[39m np\u001b[38;5;241m.\u001b[39mlinalg\u001b[38;5;241m.\u001b[39mnorm(\u001b[43mdiff\u001b[49m, axis\u001b[38;5;241m=\u001b[39m\u001b[38;5;241m1\u001b[39m)\n\u001b[1;32m      4\u001b[0m norms\u001b[38;5;241m.\u001b[39mshape\n",
      "\u001b[0;31mNameError\u001b[0m: name 'diff' is not defined"
     ]
    }
   ],
   "source": [
    "# interpretation of objects is very important here\n",
    "# i have 10 vectors for each pixel and i want to get the length of each vector\n",
    "norms = np.linalg.norm(diff, axis=1)\n",
    "norms.shape"
   ]
  },
  {
   "cell_type": "code",
   "execution_count": 7,
   "metadata": {},
   "outputs": [
    {
     "ename": "NameError",
     "evalue": "name 'pixels' is not defined",
     "output_type": "error",
     "traceback": [
      "\u001b[0;31m---------------------------------------------------------------------------\u001b[0m",
      "\u001b[0;31mNameError\u001b[0m                                 Traceback (most recent call last)",
      "Cell \u001b[0;32mIn[7], line 2\u001b[0m\n\u001b[1;32m      1\u001b[0m \u001b[38;5;66;03m# sanity check of norms with normal broadcasting reshape operation\u001b[39;00m\n\u001b[0;32m----> 2\u001b[0m sanitycheck \u001b[38;5;241m=\u001b[39m np\u001b[38;5;241m.\u001b[39mlinalg\u001b[38;5;241m.\u001b[39mnorm(\u001b[43mpixels\u001b[49m\u001b[38;5;241m.\u001b[39mreshape(\u001b[38;5;241m-\u001b[39m\u001b[38;5;241m1\u001b[39m, \u001b[38;5;241m1\u001b[39m, \u001b[38;5;241m3\u001b[39m) \u001b[38;5;241m-\u001b[39m rand_pixels, axis\u001b[38;5;241m=\u001b[39m\u001b[38;5;241m2\u001b[39m)\n\u001b[1;32m      3\u001b[0m norms\u001b[38;5;241m.\u001b[39mshape, sanitycheck\u001b[38;5;241m.\u001b[39mshape, np\u001b[38;5;241m.\u001b[39mallclose(norms, sanitycheck)\n",
      "\u001b[0;31mNameError\u001b[0m: name 'pixels' is not defined"
     ]
    }
   ],
   "source": [
    "# sanity check of norms with normal broadcasting reshape operation\n",
    "sanitycheck = np.linalg.norm(pixels.reshape(-1, 1, 3) - rand_pixels, axis=2)\n",
    "norms.shape, sanitycheck.shape, np.allclose(norms, sanitycheck)"
   ]
  },
  {
   "cell_type": "code",
   "execution_count": 8,
   "metadata": {},
   "outputs": [
    {
     "ename": "NameError",
     "evalue": "name 'norms' is not defined",
     "output_type": "error",
     "traceback": [
      "\u001b[0;31m---------------------------------------------------------------------------\u001b[0m",
      "\u001b[0;31mNameError\u001b[0m                                 Traceback (most recent call last)",
      "Cell \u001b[0;32mIn[8], line 1\u001b[0m\n\u001b[0;32m----> 1\u001b[0m closest_centroid_idx \u001b[38;5;241m=\u001b[39m np\u001b[38;5;241m.\u001b[39margmin(\u001b[43mnorms\u001b[49m, axis\u001b[38;5;241m=\u001b[39m\u001b[38;5;241m1\u001b[39m)\n\u001b[1;32m      2\u001b[0m new_centroids \u001b[38;5;241m=\u001b[39m np\u001b[38;5;241m.\u001b[39marray([pixels[closest_centroid_idx \u001b[38;5;241m==\u001b[39m centroid_idx]\u001b[38;5;241m.\u001b[39mmean(axis\u001b[38;5;241m=\u001b[39m\u001b[38;5;241m0\u001b[39m) \u001b[38;5;28;01mfor\u001b[39;00m centroid_idx \u001b[38;5;129;01min\u001b[39;00m \u001b[38;5;28mrange\u001b[39m(\u001b[38;5;241m10\u001b[39m)])\n\u001b[1;32m      3\u001b[0m new_centroids\u001b[38;5;241m.\u001b[39mshape\n",
      "\u001b[0;31mNameError\u001b[0m: name 'norms' is not defined"
     ]
    }
   ],
   "source": [
    "closest_centroid_idx = np.argmin(norms, axis=1)\n",
    "new_centroids = np.array([pixels[closest_centroid_idx == centroid_idx].mean(axis=0) for centroid_idx in range(10)])\n",
    "new_centroids.shape"
   ]
  },
  {
   "cell_type": "code",
   "execution_count": 3,
   "metadata": {},
   "outputs": [],
   "source": [
    "# kmeans loop\n",
    "\n",
    "cluster_count = 2\n",
    "image = Image.open(\"./bald/20240823_000408.jpg\")\n",
    "# image = image.convert(\"RGB\")\n",
    "width = image.width\n",
    "height = image.height\n",
    "pixels = np.array(image).reshape(-1, 3, 1)\n",
    "np.random.seed(14)\n",
    "initial_centroids = pixels[np.random.randint(0, pixels.shape[0], cluster_count)]\n",
    "centroids = initial_centroids\n",
    "closest_centroid_indices = None\n",
    "\n",
    "losses = []\n",
    "for _ in range(15):\n",
    "  centroids_formatted = centroids.T.reshape(1, 3, cluster_count)\n",
    "  diffs = pixels - centroids_formatted\n",
    "  norms = np.linalg.norm(diffs, axis=1)\n",
    "  \n",
    "  loss = np.min(norms, axis=1).mean()\n",
    "  losses.append(loss)\n",
    "\n",
    "  closest_centroid_indices = np.argmin(norms, axis=1)\n",
    "  # new_centroids = []\n",
    "  # for centroid_idx in range(cluster_count):\n",
    "  #   mask = closest_centroid_indices == centroid_idx\n",
    "  #   if np.any(mask):\n",
    "  #     new_centroids.append(pixels[mask].mean(axis=0))\n",
    "  #   else:\n",
    "  #     new_centroids.append(pixels[np.random.randint(0, pixels.shape[0])])\n",
    "  # centroids = np.array(new_centroids)\n",
    "\n",
    "\n",
    "  centroids = np.array([pixels[closest_centroid_indices == centroid_idx].mean(axis=0) if np.any(closest_centroid_indices == centroid_idx) else pixels[np.random.randint(0, pixels.shape[0])] for centroid_idx in range(cluster_count)])\n",
    "  # centroids = np.array([pixels[closest_centroid_indices == centroid_idx].mean(axis=0) for centroid_idx in range(cluster_count)])"
   ]
  },
  {
   "cell_type": "code",
   "execution_count": 24,
   "metadata": {},
   "outputs": [
    {
     "data": {
      "text/plain": [
       "[<matplotlib.lines.Line2D at 0x11b017050>]"
      ]
     },
     "execution_count": 24,
     "metadata": {},
     "output_type": "execute_result"
    },
    {
     "data": {
      "image/png": "[encoded data removed]",
      "text/plain": [
       "<Figure size 640x480 with 1 Axes>"
      ]
     },
     "metadata": {},
     "output_type": "display_data"
    }
   ],
   "source": [
    "import matplotlib.pyplot as plt\n",
    "\n",
    "plt.plot(np.log10(np.array(losses)))"
   ]
  },
  {
   "cell_type": "code",
   "execution_count": 4,
   "metadata": {},
   "outputs": [],
   "source": [
    "pixel_replaced = centroids[closest_centroid_indices].reshape(height, width, 3)\n",
    "Image.fromarray(np.uint8(pixel_replaced)).save(\"kmeans.jpg\")"
   ]
  },
  {
   "cell_type": "code",
   "execution_count": 17,
   "metadata": {},
   "outputs": [],
   "source": [
    "im = Image.fromarray(np.uint8(pixel_replaced))\n",
    "im.resize((image.width // 500, image.height // 500)).save(\"kmeans_resized.jpg\")"
   ]
  },
  {
   "cell_type": "code",
   "execution_count": 19,
   "metadata": {},
   "outputs": [],
   "source": [
    "bald = Image.open(\"./bald/test.png\")\n",
    "bald.resize((bald.width // 200, bald.height // 200)).save(\"bald_resized.png\")"
   ]
  }
 ],
 "metadata": {
  "kernelspec": {
   "display_name": "3.11.2",
   "language": "python",
   "name": "python3"
  },
  "language_info": {
   "codemirror_mode": {
    "name": "ipython",
    "version": 3
   },
   "file_extension": ".py",
   "mimetype": "text/x-python",
   "name": "python",
   "nbconvert_exporter": "python",
   "pygments_lexer": "ipython3",
   "version": "3.11.2"
  }
 },
 "nbformat": 4,
 "nbformat_minor": 2
}
