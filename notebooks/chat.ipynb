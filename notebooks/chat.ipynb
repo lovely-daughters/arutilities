{
 "cells": [
  {
   "cell_type": "code",
   "execution_count": null,
   "metadata": {
    "vscode": {
     "languageId": "typescript"
    }
   },
   "outputs": [],
   "source": [
    "// goal is to keep everything self-contained for the download. all css stylesheets and images merged into one html file. "
   ]
  },
  {
   "cell_type": "code",
   "execution_count": 1,
   "metadata": {
    "vscode": {
     "languageId": "plaintext"
    }
   },
   "outputs": [
    {
     "name": "stdout",
     "output_type": "stream",
     "text": [
      "00 - DevTools\n",
      "01 - \n",
      "02 - javascript - Uncaught DOMException: Failed to read the 'cssRules' property - Stack Overflow\n",
      "03 - CSSStyleSheet: cssRules property - Web APIs | MDN\n",
      "04 - python - How do I split the definition of a long string over multiple lines? - Stack Overflow\n",
      "05 - \n",
      "06 - \n",
      "07 - set background color of entire webpage to black - Google Search\n",
      "08 - \n",
      "09 - CSS Selectors Reference\n",
      "10 - CSS selectors - CSS: Cascading Style Sheets | MDN\n",
      "11 - node.js - Octal escape sequences are not allowed in template strings - Stack Overflow\n",
      "12 - Document: querySelector() method - Web APIs | MDN\n",
      "13 - Inspect with Chrome Developer Tools\n",
      "14 - Selenium with Python — Selenium Python Bindings 2 documentation\n",
      "15 - Mistress - Remote Debugging with CDP\n",
      "16 - "
     ]
    }
   ],
   "source": [
    "%tabs"
   ]
  },
  {
   "cell_type": "code",
   "execution_count": 3,
   "metadata": {
    "vscode": {
     "languageId": "plaintext"
    }
   },
   "outputs": [
    {
     "name": "stdout",
     "output_type": "stream",
     "text": [
      "SWITCHED TO TAB: 15"
     ]
    }
   ],
   "source": [
    "%switch 15"
   ]
  },
  {
   "cell_type": "code",
   "execution_count": 40,
   "metadata": {
    "vscode": {
     "languageId": "typescript"
    }
   },
   "outputs": [
    {
     "name": "stdout",
     "output_type": "stream",
     "text": [
      "{'result': {'className': 'NodeList',\n",
      "            'description': 'NodeList(36)',\n",
      "            'objectId': '-8337623130623279169.27.23',\n",
      "            'subtype': 'array',\n",
      "            'type': 'object'}}"
     ]
    }
   ],
   "source": [
    "const articles = document.querySelectorAll(\"article.w-full.text-token-text-primary\")\n",
    "articles"
   ]
  },
  {
   "cell_type": "code",
   "execution_count": 41,
   "metadata": {
    "vscode": {
     "languageId": "typescript"
    }
   },
   "outputs": [
    {
     "name": "stdout",
     "output_type": "stream",
     "text": [
      "{'result': {'type': 'undefined'}}"
     ]
    }
   ],
   "source": [
    "const articles_html = Array.from(articles).map(article => article.outerHTML)"
   ]
  },
  {
   "cell_type": "code",
   "execution_count": 42,
   "metadata": {
    "vscode": {
     "languageId": "typescript"
    }
   },
   "outputs": [
    {
     "name": "stdout",
     "output_type": "stream",
     "text": [
      "{'result': {'type': 'undefined'}}"
     ]
    }
   ],
   "source": [
    "const stylesheets = document.querySelectorAll(\"link[rel=stylesheet]\")\n",
    "const links = Array.from(stylesheets).map(stylesheet => stylesheet.href)\n",
    "const promises = links.map(link => fetch(link, { method: \"GET\" }).then(response => response.text()))\n",
    "const css = await Promise.all(promises)"
   ]
  },
  {
   "cell_type": "code",
   "execution_count": 43,
   "metadata": {
    "vscode": {
     "languageId": "typescript"
    }
   },
   "outputs": [
    {
     "name": "stdout",
     "output_type": "stream",
     "text": [
      "{'result': {'type': 'undefined'}}"
     ]
    }
   ],
   "source": [
    "const html = `<html style=\"background-color: black;\">\n",
    "<head>\n",
    "<style>${css.join(\"</style>\\n<style>\")}</style>\n",
    "<style> code { background-color: black !important; } </style>\n",
    "</head>\n",
    "<body style=\"background-color: black;\">\n",
    "${articles_html.join(\"\")}\n",
    "</body>\n",
    "</html>`\n",
    "console.log(html)"
   ]
  },
  {
   "cell_type": "code",
   "execution_count": 39,
   "metadata": {
    "vscode": {
     "languageId": "typescript"
    }
   },
   "outputs": [
    {
     "name": "stdout",
     "output_type": "stream",
     "text": [
      "{'exceptionDetails': {'columnNumber': 466,\n",
      "                      'exception': {'className': 'TypeError',\n",
      "                                    'description': 'TypeError: Failed to '\n",
      "                                                   'fetch\\n'\n",
      "                                                   '    at u '\n",
      "                                                   '(https://cdn.oaistatic.com/assets/gghzs582a65dvm3m.js:230:466)\\n'\n",
      "                                                   '    at u '\n",
      "                                                   '(https://cdn.oaistatic.com/assets/gghzs582a65dvm3m.js:308:474)\\n'\n",
      "                                                   '    at <anonymous>:4:28\\n'\n",
      "                                                   '    at Array.map '\n",
      "                                                   '(<anonymous>)\\n'\n",
      "                                                   '    at <anonymous>:2:43',\n",
      "                                    'objectId': '-8337623130623279169.27.22',\n",
      "                                    'subtype': 'error',\n",
      "                                    'type': 'object'},\n",
      "                      'exceptionId': 269,\n",
      "                      'lineNumber': 230,\n",
      "                      'scriptId': '2582',\n",
      "                      'stackTrace': {'callFrames': [{'columnNumber': 465,\n",
      "                                                     'functionName': 'u',\n",
      "                                                     'lineNumber': 229,\n",
      "                                                     'scriptId': '2582',\n",
      "                                                     'url': 'https://cdn.oaistatic.com/assets/gghzs582a65dvm3m.js'},\n",
      "                                                    {'columnNumber': 473,\n",
      "                                                     'functionName': 'u',\n",
      "                                                     'lineNumber': 307,\n",
      "                                                     'scriptId': '2582',\n",
      "                                                     'url': 'https://cdn.oaistatic.com/assets/gghzs582a65dvm3m.js'},\n",
      "                                                    {'columnNumber': 27,\n",
      "                                                     'functionName': '',\n",
      "                                                     'lineNumber': 3,\n",
      "                                                     'scriptId': '4353',\n",
      "                                                     'url': ''},\n",
      "                                                    {'columnNumber': 42,\n",
      "                                                     'functionName': '',\n",
      "                                                     'lineNumber': 1,\n",
      "                                                     'scriptId': '4353',\n",
      "                                                     'url': ''}]},\n",
      "                      'text': 'Uncaught'},\n",
      " 'result': {'className': 'TypeError',\n",
      "            'description': 'TypeError: Failed to fetch\\n'\n",
      "                           '    at u '\n",
      "                           '(https://cdn.oaistatic.com/assets/gghzs582a65dvm3m.js:230:466)\\n'\n",
      "                           '    at u '\n",
      "                           '(https://cdn.oaistatic.com/assets/gghzs582a65dvm3m.js:308:474)\\n'\n",
      "                           '    at <anonymous>:4:28\\n'\n",
      "                           '    at Array.map (<anonymous>)\\n'\n",
      "                           '    at <anonymous>:2:43',\n",
      "            'objectId': '-8337623130623279169.27.21',\n",
      "            'subtype': 'error',\n",
      "            'type': 'object'}}"
     ]
    }
   ],
   "source": [
    "const images = document.querySelectorAll(\"main img\")\n",
    "const image_promises = Array.from(images).map(async (img: HTMLImageElement) => {\n",
    "  const url = img.src\n",
    "  const response = await fetch(url)\n",
    "  const blob = await response.blob()\n",
    "\n",
    "  return new Promise((resolve) => {\n",
    "    const reader = new FileReader()\n",
    "    reader.onloadend = () => { img.src = reader.result as string; resolve() }\n",
    "    reader.readAsDataURL(blob)\n",
    "  })\n",
    "})\n",
    "\n",
    "await Promise.all(image_promises)"
   ]
  },
  {
   "cell_type": "code",
   "execution_count": null,
   "metadata": {
    "vscode": {
     "languageId": "typescript"
    }
   },
   "outputs": [],
   "source": []
  }
 ],
 "metadata": {
  "kernelspec": {
   "display_name": "angelina_kernel",
   "language": "text",
   "name": "angelina_kernel"
  },
  "language_info": {
   "file_extension": ".js",
   "mimetype": "application/javascript",
   "name": "text"
  }
 },
 "nbformat": 4,
 "nbformat_minor": 2
}
