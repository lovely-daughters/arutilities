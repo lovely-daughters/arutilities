{
 "cells": [
  {
   "cell_type": "code",
   "execution_count": null,
   "metadata": {
    "vscode": {
     "languageId": "typescript"
    }
   },
   "outputs": [],
   "source": [
    "// goal is to keep everything self-contained for the download. all css stylesheets and images merged into one html file. \n",
    "\n",
    "https://chatgpt.com/g/g-Rk6npD4nD-mistress/c/670dee7a-7b50-8005-ba26-fd34ab825759"
   ]
  },
  {
   "cell_type": "code",
   "execution_count": 1,
   "metadata": {
    "vscode": {
     "languageId": "plaintext"
    }
   },
   "outputs": [
    {
     "name": "stdout",
     "output_type": "stream",
     "text": [
      "{'exceptionDetails': {'columnNumber': 0,\n",
      "                      'exception': {'className': 'SyntaxError',\n",
      "                                    'description': 'SyntaxError: Invalid or '\n",
      "                                                   'unexpected token',\n",
      "                                    'objectId': '-2974282408253372613.1.3',\n",
      "                                    'subtype': 'error',\n",
      "                                    'type': 'object'},\n",
      "                      'exceptionId': 1,\n",
      "                      'lineNumber': 0,\n",
      "                      'scriptId': '106',\n",
      "                      'text': 'Uncaught'},\n",
      " 'result': {'className': 'SyntaxError',\n",
      "            'description': 'SyntaxError: Invalid or unexpected token',\n",
      "            'objectId': '-2974282408253372613.1.2',\n",
      "            'subtype': 'error',\n",
      "            'type': 'object'}}"
     ]
    }
   ],
   "source": [
    "# killingcares-indifference\n",
    "# hsk3.0 vocab grind resuming"
   ]
  },
  {
   "cell_type": "code",
   "execution_count": 1,
   "metadata": {
    "vscode": {
     "languageId": "plaintext"
    }
   },
   "outputs": [
    {
     "name": "stdout",
     "output_type": "stream",
     "text": [
      "00 - \n",
      "01 - Changes | Tampermonkey\n",
      "02 - Mistress - Learning Efficiency from Data"
     ]
    }
   ],
   "source": [
    "%tabs"
   ]
  },
  {
   "cell_type": "code",
   "execution_count": 3,
   "metadata": {
    "vscode": {
     "languageId": "plaintext"
    }
   },
   "outputs": [
    {
     "name": "stdout",
     "output_type": "stream",
     "text": [
      "SWITCHED TO TAB: 2"
     ]
    }
   ],
   "source": [
    "%switch 02"
   ]
  },
  {
   "cell_type": "code",
   "execution_count": 5,
   "metadata": {
    "vscode": {
     "languageId": "typescript"
    }
   },
   "outputs": [
    {
     "name": "stdout",
     "output_type": "stream",
     "text": [
      "{'result': {'className': 'NodeList',\n",
      "            'description': 'NodeList(22)',\n",
      "            'objectId': '2440707538500545772.1.5',\n",
      "            'subtype': 'array',\n",
      "            'type': 'object'}}"
     ]
    }
   ],
   "source": [
    "const articles = document.querySelectorAll(\"article.w-full.text-token-text-primary\")\n",
    "articles"
   ]
  },
  {
   "cell_type": "code",
   "execution_count": 6,
   "metadata": {
    "vscode": {
     "languageId": "typescript"
    }
   },
   "outputs": [
    {
     "name": "stdout",
     "output_type": "stream",
     "text": [
      "{'result': {'type': 'undefined'}}"
     ]
    }
   ],
   "source": [
    "const articles_html = Array.from(articles).map(article => article.outerHTML)"
   ]
  },
  {
   "cell_type": "code",
   "execution_count": 7,
   "metadata": {
    "vscode": {
     "languageId": "typescript"
    }
   },
   "outputs": [
    {
     "name": "stdout",
     "output_type": "stream",
     "text": [
      "{'result': {'type': 'undefined'}}"
     ]
    }
   ],
   "source": [
    "const stylesheets = document.querySelectorAll(\"link[rel=stylesheet]\")\n",
    "const links = Array.from(stylesheets).map(stylesheet => stylesheet.href)\n",
    "const promises = links.map(link => fetch(link, { method: \"GET\" }).then(response => response.text()))\n",
    "const css = await Promise.all(promises)"
   ]
  },
  {
   "cell_type": "code",
   "execution_count": 8,
   "metadata": {
    "vscode": {
     "languageId": "typescript"
    }
   },
   "outputs": [
    {
     "name": "stdout",
     "output_type": "stream",
     "text": [
      "{'result': {'type': 'undefined'}}"
     ]
    }
   ],
   "source": [
    "const html = `<html style=\"background-color: black;\">\n",
    "<head>\n",
    "<style>${css.join(\"</style>\\n<style>\")}</style>\n",
    "<style> code { background-color: black !important; } </style>\n",
    "</head>\n",
    "<body style=\"background-color: black;\">\n",
    "${articles_html.join(\"\")}\n",
    "</body>\n",
    "</html>`\n",
    "console.log(html)"
   ]
  },
  {
   "cell_type": "code",
   "execution_count": 4,
   "metadata": {
    "vscode": {
     "languageId": "typescript"
    }
   },
   "outputs": [
    {
     "name": "stdout",
     "output_type": "stream",
     "text": [
      "{'exceptionDetails': {'columnNumber': 466,\n",
      "                      'exception': {'className': 'TypeError',\n",
      "                                    'description': 'TypeError: Failed to '\n",
      "                                                   'fetch\\n'\n",
      "                                                   '    at u '\n",
      "                                                   '(https://cdn.oaistatic.com/assets/b039tv8bwphg53xz.js:214:466)\\n'\n",
      "                                                   '    at u '\n",
      "                                                   '(https://cdn.oaistatic.com/assets/b039tv8bwphg53xz.js:292:474)\\n'\n",
      "                                                   '    at <anonymous>:4:28\\n'\n",
      "                                                   '    at Array.map '\n",
      "                                                   '(<anonymous>)\\n'\n",
      "                                                   '    at <anonymous>:2:43',\n",
      "                                    'objectId': '2440707538500545772.1.4',\n",
      "                                    'subtype': 'error',\n",
      "                                    'type': 'object'},\n",
      "                      'exceptionId': 1,\n",
      "                      'lineNumber': 214,\n",
      "                      'scriptId': '69',\n",
      "                      'stackTrace': {'callFrames': [{'columnNumber': 465,\n",
      "                                                     'functionName': 'u',\n",
      "                                                     'lineNumber': 213,\n",
      "                                                     'scriptId': '69',\n",
      "                                                     'url': 'https://cdn.oaistatic.com/assets/b039tv8bwphg53xz.js'},\n",
      "                                                    {'columnNumber': 473,\n",
      "                                                     'functionName': 'u',\n",
      "                                                     'lineNumber': 291,\n",
      "                                                     'scriptId': '69',\n",
      "                                                     'url': 'https://cdn.oaistatic.com/assets/b039tv8bwphg53xz.js'},\n",
      "                                                    {'columnNumber': 27,\n",
      "                                                     'functionName': '',\n",
      "                                                     'lineNumber': 3,\n",
      "                                                     'scriptId': '110',\n",
      "                                                     'url': ''},\n",
      "                                                    {'columnNumber': 42,\n",
      "                                                     'functionName': '',\n",
      "                                                     'lineNumber': 1,\n",
      "                                                     'scriptId': '110',\n",
      "                                                     'url': ''}]},\n",
      "                      'text': 'Uncaught'},\n",
      " 'result': {'className': 'TypeError',\n",
      "            'description': 'TypeError: Failed to fetch\\n'\n",
      "                           '    at u '\n",
      "                           '(https://cdn.oaistatic.com/assets/b039tv8bwphg53xz.js:214:466)\\n'\n",
      "                           '    at u '\n",
      "                           '(https://cdn.oaistatic.com/assets/b039tv8bwphg53xz.js:292:474)\\n'\n",
      "                           '    at <anonymous>:4:28\\n'\n",
      "                           '    at Array.map (<anonymous>)\\n'\n",
      "                           '    at <anonymous>:2:43',\n",
      "            'objectId': '2440707538500545772.1.3',\n",
      "            'subtype': 'error',\n",
      "            'type': 'object'}}"
     ]
    }
   ],
   "source": [
    "const images = document.querySelectorAll(\"main img\")\n",
    "const image_promises = Array.from(images).map(async (img: HTMLImageElement) => {\n",
    "  const url = img.src\n",
    "  const response = await fetch(url)\n",
    "  const blob = await response.blob()\n",
    "\n",
    "  return new Promise((resolve) => {\n",
    "    const reader = new FileReader()\n",
    "    reader.onloadend = () => { img.src = reader.result as string; resolve() }\n",
    "    reader.readAsDataURL(blob)\n",
    "  })\n",
    "})\n",
    "\n",
    "await Promise.all(image_promises)"
   ]
  },
  {
   "cell_type": "code",
   "execution_count": null,
   "metadata": {
    "vscode": {
     "languageId": "typescript"
    }
   },
   "outputs": [],
   "source": []
  }
 ],
 "metadata": {
  "kernelspec": {
   "display_name": "angelina_kernel",
   "language": "text",
   "name": "angelina_kernel"
  },
  "language_info": {
   "file_extension": ".js",
   "mimetype": "application/javascript",
   "name": "text"
  }
 },
 "nbformat": 4,
 "nbformat_minor": 2
}
